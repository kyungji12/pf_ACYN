{
 "cells": [
  {
   "cell_type": "code",
   "execution_count": 1,
   "metadata": {},
   "outputs": [],
   "source": [
    "import warnings\n",
    "warnings.filterwarnings(\"ignore\")\n",
    "\n",
    "import numpy as np\n",
    "import pandas as pd\n",
    "import matplotlib.pyplot as plt\n",
    "%matplotlib inline\n",
    "from sklearn.model_selection import train_test_split\n",
    "from sklearn.metrics import accuracy_score\n",
    "from xgboost import XGBClassifier\n",
    "from xgboost import plot_importance\n",
    "\n",
    "path = r\"C:/Users/kyung/Desktop/UPT_dev/all_posnet_data/\""
   ]
  },
  {
   "cell_type": "code",
   "execution_count": 2,
   "metadata": {},
   "outputs": [],
   "source": [
    "data1 = pd.read_csv(path+\"all_data_1.csv\")\n",
    "data2 = pd.read_csv(path+\"all_data_2.csv\")\n",
    "data3 = pd.read_csv(path+\"all_data_3.csv\")\n",
    "data4 = pd.read_csv(path+\"all_data_4.csv\")\n",
    "\n",
    "label = pd.read_excel(path+\"all_data_label.xlsx\", header = None, index_col = 1)"
   ]
  },
  {
   "cell_type": "code",
   "execution_count": 3,
   "metadata": {},
   "outputs": [],
   "source": [
    "# 첫번째 컬럼빼고 다음에 나오는 컬럼들 삭제\n",
    "drop_idx1 = []\n",
    "for i in range(0, len(data1)-4, 4):\n",
    "    drop_idx1.append(i+3)\n",
    "    \n",
    "drop_idx2 = []\n",
    "for i in range(0, len(data2)-4, 4):\n",
    "    drop_idx2.append(i+3)\n",
    "    \n",
    "drop_idx3 = []\n",
    "for i in range(0, len(data3)-4, 4):\n",
    "    drop_idx3.append(i+3)\n",
    "    \n",
    "drop_idx4 = []\n",
    "for i in range(0, len(data4)-4, 4):\n",
    "    drop_idx4.append(i+3)\n",
    "\n",
    "data1.drop(data1.index[drop_idx1], inplace = True)\n",
    "data1.reset_index(drop=True, inplace = True)\n",
    "\n",
    "data2.drop(data2.index[drop_idx2], inplace = True)\n",
    "data2.reset_index(drop=True, inplace = True)\n",
    "\n",
    "data3.drop(data3.index[drop_idx3], inplace = True)\n",
    "data3.reset_index(drop=True, inplace = True)\n",
    "\n",
    "data4.drop(data4.index[drop_idx4], inplace = True)\n",
    "data4.reset_index(drop=True, inplace = True)"
   ]
  },
  {
   "cell_type": "code",
   "execution_count": 4,
   "metadata": {},
   "outputs": [],
   "source": [
    "# 4개 csv 파일 합치기\n",
    "frames = [data1, data2, data3, data4]\n",
    "data = pd.concat(frames, axis = 0)"
   ]
  },
  {
   "cell_type": "code",
   "execution_count": 5,
   "metadata": {},
   "outputs": [],
   "source": [
    "# 합친 데이터 인덱스 재설정 및 데이터 타입 변환\n",
    "data.reset_index(drop=True, inplace = True)\n",
    "data = data.apply(pd.to_numeric)"
   ]
  },
  {
   "cell_type": "code",
   "execution_count": 6,
   "metadata": {},
   "outputs": [],
   "source": [
    "# posenet score 모을 리스트 생성\n",
    "score_idx = []\n",
    "for i in range(0, len(data), 3):\n",
    "    score_idx.append(i+2)"
   ]
  },
  {
   "cell_type": "code",
   "execution_count": 7,
   "metadata": {},
   "outputs": [],
   "source": [
    "# score점수가 0.5이하면 버리기 -> NaN값으로 처리\n",
    "columns = data.columns.to_list()\n",
    "for idx in score_idx:  \n",
    "    for column in columns:    \n",
    "        if data.loc[idx][column] < 0.5:\n",
    "            data.loc[idx-2][column] = np.nan # x  'NaN'\n",
    "            data.loc[idx-1][column] = np.nan # y"
   ]
  },
  {
   "cell_type": "code",
   "execution_count": 8,
   "metadata": {},
   "outputs": [],
   "source": [
    "# score data만 떼어내기 -> 2346row\n",
    "score_data = data.loc[score_idx , :]\n",
    "score_data.reset_index(drop=True, inplace = True)"
   ]
  },
  {
   "cell_type": "code",
   "execution_count": 9,
   "metadata": {},
   "outputs": [],
   "source": [
    "# x, y 좌표만 남기기\n",
    "data = data.drop(data.index[score_idx])\n",
    "data.reset_index(drop=True, inplace = True)"
   ]
  },
  {
   "cell_type": "code",
   "execution_count": 10,
   "metadata": {},
   "outputs": [],
   "source": [
    "# x좌표 index, y좌표 index 용 리스트 생성\n",
    "x_idx = []\n",
    "y_idx = []\n",
    "for idx in range(0, len(data), 2):\n",
    "    x_idx.append(idx)\n",
    "    y_idx.append(idx+1)"
   ]
  },
  {
   "cell_type": "code",
   "execution_count": 11,
   "metadata": {},
   "outputs": [],
   "source": [
    "# x_data, y_data분리\n",
    "x_data = data.loc[x_idx, :]\n",
    "x_data.reset_index(drop=True, inplace = True)\n",
    "\n",
    "y_data = data.loc[y_idx, :]\n",
    "y_data.reset_index(drop=True, inplace = True)"
   ]
  },
  {
   "cell_type": "code",
   "execution_count": 12,
   "metadata": {},
   "outputs": [],
   "source": [
    "# 컬럼명 바꾸기용 리스트 생성\n",
    "x_col = []\n",
    "y_col = []\n",
    "for column in columns:\n",
    "    x_col.append(column+'_x')\n",
    "    y_col.append(column+'_y')"
   ]
  },
  {
   "cell_type": "code",
   "execution_count": 13,
   "metadata": {},
   "outputs": [],
   "source": [
    "# 컬럼명 바꾸기 \n",
    "x_data.columns = x_col\n",
    "y_data.columns = y_col"
   ]
  },
  {
   "cell_type": "code",
   "execution_count": 14,
   "metadata": {},
   "outputs": [],
   "source": [
    "# 라벨링한 csv파일 전처리 \n",
    "value = {'classification':label[2]}\n",
    "label = pd.DataFrame(value, index = label.index)\n",
    "label.reset_index(drop=True, inplace = True)"
   ]
  },
  {
   "cell_type": "code",
   "execution_count": 15,
   "metadata": {},
   "outputs": [],
   "source": [
    "# 모두 합치기\n",
    "all_data = pd.concat([x_data, y_data, label], axis = 1)"
   ]
  },
  {
   "cell_type": "code",
   "execution_count": 16,
   "metadata": {},
   "outputs": [],
   "source": [
    "# 각 행의 모든 컬럼에서 null값이 20개 이상인 행 제거 => 1419rows\n",
    "data_20 = all_data.drop(all_data.index[all_data.isnull().sum(axis = 1)>19])\n",
    "data_20.reset_index(drop=True, inplace = True)"
   ]
  },
  {
   "cell_type": "code",
   "execution_count": 17,
   "metadata": {},
   "outputs": [],
   "source": [
    "# Decision Tree와 data_20.info(), XGBoost 특성중요도에서 얻은 특성값\n",
    "feature_names =['leftShoulder_y','leftEye_y','rightElbow_x','rightShoulder_y',\n",
    "                'leftShoulder_x','leftElbow_x','rightEye_x','leftElbow_y',\n",
    "                'rightShoulder_x','rightWrist_x','leftWrist_x'] #11개"
   ]
  },
  {
   "cell_type": "code",
   "execution_count": 29,
   "metadata": {},
   "outputs": [
    {
     "name": "stdout",
     "output_type": "stream",
     "text": [
      "훈련 세트 정확도: 0.994\n",
      "테스트 세트 정확도 : 0.665\n"
     ]
    }
   ],
   "source": [
    "# 모든 특성 학습시키기 \n",
    "X = data_20[feature_names]\n",
    "y = data_20[data_20.columns[-1]]\n",
    "\n",
    "#데이터 분리\n",
    "X_train, X_test, y_train, y_test = train_test_split(X, y, random_state = 66)\n",
    "\n",
    "#모델 학습\n",
    "model = XGBClassifier(\n",
    "        learning_rate =0.09,\n",
    "        n_estimators=110,\n",
    "        max_depth=7,\n",
    "        min_child_weight=1,\n",
    "        gamma=0.3,\n",
    "        reg_alpha=1e-05,\n",
    "        subsample=0.61,\n",
    "        colsample_bytree=0.7,\n",
    "        seed = 150\n",
    ") \n",
    "model.fit(X_train, y_train)\n",
    "\n",
    "#평가 \n",
    "print(\"훈련 세트 정확도: {:.3f}\".format(model.score(X_train, y_train)))\n",
    "print(\"테스트 세트 정확도 : {:.3f}\".format(model.score(X_test, y_test)))"
   ]
  },
  {
   "cell_type": "code",
   "execution_count": 27,
   "metadata": {},
   "outputs": [
    {
     "data": {
      "text/html": [
       "<div>\n",
       "<style scoped>\n",
       "    .dataframe tbody tr th:only-of-type {\n",
       "        vertical-align: middle;\n",
       "    }\n",
       "\n",
       "    .dataframe tbody tr th {\n",
       "        vertical-align: top;\n",
       "    }\n",
       "\n",
       "    .dataframe thead th {\n",
       "        text-align: right;\n",
       "    }\n",
       "</style>\n",
       "<table border=\"1\" class=\"dataframe\">\n",
       "  <thead>\n",
       "    <tr style=\"text-align: right;\">\n",
       "      <th></th>\n",
       "      <th>leftShoulder_y</th>\n",
       "      <th>leftEye_y</th>\n",
       "      <th>rightElbow_x</th>\n",
       "      <th>rightShoulder_y</th>\n",
       "      <th>leftShoulder_x</th>\n",
       "      <th>leftElbow_x</th>\n",
       "      <th>rightEye_x</th>\n",
       "      <th>leftElbow_y</th>\n",
       "      <th>rightShoulder_x</th>\n",
       "      <th>rightWrist_x</th>\n",
       "      <th>leftWrist_x</th>\n",
       "    </tr>\n",
       "  </thead>\n",
       "  <tbody>\n",
       "    <tr>\n",
       "      <th>1242</th>\n",
       "      <td>0.774</td>\n",
       "      <td>0.311</td>\n",
       "      <td>3.967</td>\n",
       "      <td>0.208</td>\n",
       "      <td>1.779</td>\n",
       "      <td>3.696</td>\n",
       "      <td>NaN</td>\n",
       "      <td>1.143</td>\n",
       "      <td>1.357</td>\n",
       "      <td>NaN</td>\n",
       "      <td>1.112</td>\n",
       "    </tr>\n",
       "    <tr>\n",
       "      <th>589</th>\n",
       "      <td>0.425</td>\n",
       "      <td>NaN</td>\n",
       "      <td>3.401</td>\n",
       "      <td>0.343</td>\n",
       "      <td>0.276</td>\n",
       "      <td>NaN</td>\n",
       "      <td>0.047</td>\n",
       "      <td>NaN</td>\n",
       "      <td>0.888</td>\n",
       "      <td>4.051</td>\n",
       "      <td>0.906</td>\n",
       "    </tr>\n",
       "    <tr>\n",
       "      <th>867</th>\n",
       "      <td>0.039</td>\n",
       "      <td>0.069</td>\n",
       "      <td>0.860</td>\n",
       "      <td>0.021</td>\n",
       "      <td>1.081</td>\n",
       "      <td>0.867</td>\n",
       "      <td>NaN</td>\n",
       "      <td>0.667</td>\n",
       "      <td>1.050</td>\n",
       "      <td>0.755</td>\n",
       "      <td>7.105</td>\n",
       "    </tr>\n",
       "    <tr>\n",
       "      <th>183</th>\n",
       "      <td>0.124</td>\n",
       "      <td>0.109</td>\n",
       "      <td>1.990</td>\n",
       "      <td>0.132</td>\n",
       "      <td>1.217</td>\n",
       "      <td>1.358</td>\n",
       "      <td>0.019</td>\n",
       "      <td>0.679</td>\n",
       "      <td>1.603</td>\n",
       "      <td>1.025</td>\n",
       "      <td>NaN</td>\n",
       "    </tr>\n",
       "    <tr>\n",
       "      <th>406</th>\n",
       "      <td>0.418</td>\n",
       "      <td>0.122</td>\n",
       "      <td>0.199</td>\n",
       "      <td>0.568</td>\n",
       "      <td>0.218</td>\n",
       "      <td>0.212</td>\n",
       "      <td>0.006</td>\n",
       "      <td>1.725</td>\n",
       "      <td>0.110</td>\n",
       "      <td>0.040</td>\n",
       "      <td>0.041</td>\n",
       "    </tr>\n",
       "    <tr>\n",
       "      <th>...</th>\n",
       "      <td>...</td>\n",
       "      <td>...</td>\n",
       "      <td>...</td>\n",
       "      <td>...</td>\n",
       "      <td>...</td>\n",
       "      <td>...</td>\n",
       "      <td>...</td>\n",
       "      <td>...</td>\n",
       "      <td>...</td>\n",
       "      <td>...</td>\n",
       "      <td>...</td>\n",
       "    </tr>\n",
       "    <tr>\n",
       "      <th>1146</th>\n",
       "      <td>0.526</td>\n",
       "      <td>0.363</td>\n",
       "      <td>1.510</td>\n",
       "      <td>0.027</td>\n",
       "      <td>6.412</td>\n",
       "      <td>6.554</td>\n",
       "      <td>1.363</td>\n",
       "      <td>1.529</td>\n",
       "      <td>0.489</td>\n",
       "      <td>1.357</td>\n",
       "      <td>0.168</td>\n",
       "    </tr>\n",
       "    <tr>\n",
       "      <th>51</th>\n",
       "      <td>0.084</td>\n",
       "      <td>0.089</td>\n",
       "      <td>0.504</td>\n",
       "      <td>0.073</td>\n",
       "      <td>0.150</td>\n",
       "      <td>0.169</td>\n",
       "      <td>0.015</td>\n",
       "      <td>0.674</td>\n",
       "      <td>0.164</td>\n",
       "      <td>0.994</td>\n",
       "      <td>0.174</td>\n",
       "    </tr>\n",
       "    <tr>\n",
       "      <th>631</th>\n",
       "      <td>0.147</td>\n",
       "      <td>0.002</td>\n",
       "      <td>0.418</td>\n",
       "      <td>NaN</td>\n",
       "      <td>0.115</td>\n",
       "      <td>0.085</td>\n",
       "      <td>0.009</td>\n",
       "      <td>0.417</td>\n",
       "      <td>NaN</td>\n",
       "      <td>0.047</td>\n",
       "      <td>0.059</td>\n",
       "    </tr>\n",
       "    <tr>\n",
       "      <th>828</th>\n",
       "      <td>0.518</td>\n",
       "      <td>0.877</td>\n",
       "      <td>0.269</td>\n",
       "      <td>2.983</td>\n",
       "      <td>0.009</td>\n",
       "      <td>NaN</td>\n",
       "      <td>0.005</td>\n",
       "      <td>NaN</td>\n",
       "      <td>0.100</td>\n",
       "      <td>1.001</td>\n",
       "      <td>NaN</td>\n",
       "    </tr>\n",
       "    <tr>\n",
       "      <th>1044</th>\n",
       "      <td>0.073</td>\n",
       "      <td>0.053</td>\n",
       "      <td>0.878</td>\n",
       "      <td>0.036</td>\n",
       "      <td>0.550</td>\n",
       "      <td>0.774</td>\n",
       "      <td>0.044</td>\n",
       "      <td>0.373</td>\n",
       "      <td>0.714</td>\n",
       "      <td>1.081</td>\n",
       "      <td>NaN</td>\n",
       "    </tr>\n",
       "  </tbody>\n",
       "</table>\n",
       "<p>1064 rows × 11 columns</p>\n",
       "</div>"
      ],
      "text/plain": [
       "      leftShoulder_y  leftEye_y  rightElbow_x  rightShoulder_y  \\\n",
       "1242           0.774      0.311         3.967            0.208   \n",
       "589            0.425        NaN         3.401            0.343   \n",
       "867            0.039      0.069         0.860            0.021   \n",
       "183            0.124      0.109         1.990            0.132   \n",
       "406            0.418      0.122         0.199            0.568   \n",
       "...              ...        ...           ...              ...   \n",
       "1146           0.526      0.363         1.510            0.027   \n",
       "51             0.084      0.089         0.504            0.073   \n",
       "631            0.147      0.002         0.418              NaN   \n",
       "828            0.518      0.877         0.269            2.983   \n",
       "1044           0.073      0.053         0.878            0.036   \n",
       "\n",
       "      leftShoulder_x  leftElbow_x  rightEye_x  leftElbow_y  rightShoulder_x  \\\n",
       "1242           1.779        3.696         NaN        1.143            1.357   \n",
       "589            0.276          NaN       0.047          NaN            0.888   \n",
       "867            1.081        0.867         NaN        0.667            1.050   \n",
       "183            1.217        1.358       0.019        0.679            1.603   \n",
       "406            0.218        0.212       0.006        1.725            0.110   \n",
       "...              ...          ...         ...          ...              ...   \n",
       "1146           6.412        6.554       1.363        1.529            0.489   \n",
       "51             0.150        0.169       0.015        0.674            0.164   \n",
       "631            0.115        0.085       0.009        0.417              NaN   \n",
       "828            0.009          NaN       0.005          NaN            0.100   \n",
       "1044           0.550        0.774       0.044        0.373            0.714   \n",
       "\n",
       "      rightWrist_x  leftWrist_x  \n",
       "1242           NaN        1.112  \n",
       "589          4.051        0.906  \n",
       "867          0.755        7.105  \n",
       "183          1.025          NaN  \n",
       "406          0.040        0.041  \n",
       "...            ...          ...  \n",
       "1146         1.357        0.168  \n",
       "51           0.994        0.174  \n",
       "631          0.047        0.059  \n",
       "828          1.001          NaN  \n",
       "1044         1.081          NaN  \n",
       "\n",
       "[1064 rows x 11 columns]"
      ]
     },
     "execution_count": 27,
     "metadata": {},
     "output_type": "execute_result"
    }
   ],
   "source": [
    "X_train"
   ]
  },
  {
   "cell_type": "code",
   "execution_count": 19,
   "metadata": {},
   "outputs": [
    {
     "data": {
      "text/plain": [
       "XGBClassifier(base_score=0.5, booster='gbtree', colsample_bylevel=1,\n",
       "              colsample_bynode=1, colsample_bytree=0.7, gamma=0.3, gpu_id=-1,\n",
       "              importance_type='gain', interaction_constraints='',\n",
       "              learning_rate=0.09, max_delta_step=0, max_depth=7,\n",
       "              min_child_weight=1, missing=nan, monotone_constraints='()',\n",
       "              n_estimators=110, n_jobs=0, num_parallel_tree=1,\n",
       "              objective='binary:logistic', random_state=150, reg_alpha=1e-05,\n",
       "              reg_lambda=1, scale_pos_weight=1, seed=150, subsample=0.61,\n",
       "              tree_method='exact', validate_parameters=1, verbosity=None)"
      ]
     },
     "execution_count": 19,
     "metadata": {},
     "output_type": "execute_result"
    }
   ],
   "source": [
    "model"
   ]
  },
  {
   "cell_type": "code",
   "execution_count": 26,
   "metadata": {},
   "outputs": [],
   "source": [
    "#모델 저장하기\n",
    "import pickle\n",
    "# model.save_model('./model.bst')\n",
    "\n",
    "pickle.dump(model, open(\"upt_model.pickle.dat\", \"wb\"))"
   ]
  },
  {
   "cell_type": "code",
   "execution_count": 30,
   "metadata": {},
   "outputs": [],
   "source": [
    "#모델 로드\n",
    "loaded_model = pickle.load(open(\"upt_model.pickle.dat\", \"rb\"))"
   ]
  },
  {
   "cell_type": "code",
   "execution_count": 60,
   "metadata": {},
   "outputs": [
    {
     "name": "stdout",
     "output_type": "stream",
     "text": [
      "0.774,0.311,0.568,0.418,0.122,1.779,1.725,0.040,0.041,3.696,1.143\n"
     ]
    }
   ],
   "source": [
    "# 값 입력받기\n",
    "X_input = list(input().split(','))"
   ]
  },
  {
   "cell_type": "code",
   "execution_count": 66,
   "metadata": {},
   "outputs": [],
   "source": [
    "#임의의 테스트 데이터 dataframe으로 바꾸기\n",
    "X_data = pd.DataFrame([X_input], columns = feature_names)\n",
    "X_data = X_data.apply(pd.to_numeric)"
   ]
  },
  {
   "cell_type": "code",
   "execution_count": 68,
   "metadata": {},
   "outputs": [
    {
     "data": {
      "text/plain": [
       "[0]"
      ]
     },
     "execution_count": 68,
     "metadata": {},
     "output_type": "execute_result"
    }
   ],
   "source": [
    "# 저장한 모델에 input테스트 데이터 넣어서 예측\n",
    "y_pred = loaded_model.predict(X_data)\n",
    "predictions = [round(value) for value in y_pred]\n",
    "predictions"
   ]
  },
  {
   "cell_type": "code",
   "execution_count": null,
   "metadata": {},
   "outputs": [],
   "source": []
  }
 ],
 "metadata": {
  "kernelspec": {
   "display_name": "Python 3",
   "language": "python",
   "name": "python3"
  },
  "language_info": {
   "codemirror_mode": {
    "name": "ipython",
    "version": 3
   },
   "file_extension": ".py",
   "mimetype": "text/x-python",
   "name": "python",
   "nbconvert_exporter": "python",
   "pygments_lexer": "ipython3",
   "version": "3.7.6"
  }
 },
 "nbformat": 4,
 "nbformat_minor": 4
}
