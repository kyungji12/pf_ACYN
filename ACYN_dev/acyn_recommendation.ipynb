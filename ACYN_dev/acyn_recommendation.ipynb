{
  "nbformat": 4,
  "nbformat_minor": 0,
  "metadata": {
    "colab": {
      "name": "acyn_recommendation.ipynb",
      "provenance": []
    },
    "kernelspec": {
      "name": "python3",
      "display_name": "Python 3"
    }
  },
  "cells": [
    {
      "cell_type": "code",
      "metadata": {
        "id": "VgpKryNBDBYi"
      },
      "source": [
        "#pip install konlpy"
      ],
      "execution_count": 3,
      "outputs": []
    },
    {
      "cell_type": "code",
      "metadata": {
        "colab": {
          "resources": {
            "http://localhost:8080/nbextensions/google.colab/files.js": {
              "data": "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",
              "ok": true,
              "headers": [
                [
                  "content-type",
                  "application/javascript"
                ]
              ],
              "status": 200,
              "status_text": ""
            }
          },
          "base_uri": "https://localhost:8080/",
          "height": 175
        },
        "id": "cAcPayIhBD4U",
        "outputId": "47d6dbf4-6335-480b-b4f1-e1cb9edb3962"
      },
      "source": [
        "#local drive로부터 파일 업로드\n",
        "from google.colab import files\n",
        "myfiles = files.upload()"
      ],
      "execution_count": 4,
      "outputs": [
        {
          "output_type": "display_data",
          "data": {
            "text/html": [
              "\n",
              "     <input type=\"file\" id=\"files-7ccd7802-ebfd-4a9b-bec5-8ce75812cac7\" name=\"files[]\" multiple disabled\n",
              "        style=\"border:none\" />\n",
              "     <output id=\"result-7ccd7802-ebfd-4a9b-bec5-8ce75812cac7\">\n",
              "      Upload widget is only available when the cell has been executed in the\n",
              "      current browser session. Please rerun this cell to enable.\n",
              "      </output>\n",
              "      <script src=\"/nbextensions/google.colab/files.js\"></script> "
            ],
            "text/plain": [
              "<IPython.core.display.HTML object>"
            ]
          },
          "metadata": {
            "tags": []
          }
        },
        {
          "output_type": "stream",
          "text": [
            "Saving daum_webtoon.csv to daum_webtoon.csv\n",
            "Saving naver_novel.csv to naver_novel.csv\n",
            "Saving naver_webtoon.csv to naver_webtoon.csv\n",
            "Saving netflix.csv to netflix.csv\n"
          ],
          "name": "stdout"
        }
      ]
    },
    {
      "cell_type": "code",
      "metadata": {
        "id": "E6RBH5TcD9d9"
      },
      "source": [
        "#여러가지 모듈 import \n",
        "import io\n",
        "import pandas as pd\n",
        "\n",
        "from konlpy.tag import Okt\n",
        "import re"
      ],
      "execution_count": 6,
      "outputs": []
    },
    {
      "cell_type": "code",
      "metadata": {
        "id": "Jox3YrmuEaR7"
      },
      "source": [
        "pd.set_option('display.max_columns', 2000)\n",
        "pd.set_option('display.width', 1000)"
      ],
      "execution_count": 8,
      "outputs": []
    },
    {
      "cell_type": "code",
      "metadata": {
        "id": "qD8PWUY1JIC1"
      },
      "source": [
        "columns = ['title', 'desc', 'url']\n",
        "\n",
        "# 네이버 웹툰 가져오기\n",
        "naver_webtoon = pd.read_csv(io.BytesIO(myfiles['naver_webtoon.csv']),\n",
        "                            header=None, encoding='utf-8', names = columns)\n",
        "\n",
        "# 다음 웹툰 가져오기\n",
        "daum_webtoon = pd.read_csv(io.BytesIO(myfiles['daum_webtoon.csv']), \n",
        "                           header=None, encoding='utf-8', names = columns)\n",
        "\n",
        "# 네이버 웹소설 가져오기\n",
        "naver_webnovel = pd.read_csv(io.BytesIO(myfiles['naver_novel.csv']),\n",
        "                             header=None, encoding='utf-8', names = columns)\n",
        "\n",
        "# 넷플릭스 가져오기\n",
        "netflix = pd.read_csv(io.BytesIO(myfiles['netflix.csv']), encoding='utf-8', names = ['page_num', 'title', 'genre', 'year', 'desc', 'url'])\n",
        "netflix = netflix.dropna(axis=0)"
      ],
      "execution_count": 77,
      "outputs": []
    },
    {
      "cell_type": "code",
      "metadata": {
        "id": "YboVRHVmLv3i"
      },
      "source": [
        "# stopwords 제거\n",
        "sw = ['.', ',', '\"','&', '\"\"\"','\\n', '이', '가', '을', '를', '는', '은', '과', '의', '로','에서','에', '도','에게','와', '인']\n",
        "\n",
        "# 네이버 웹툰 토큰화 및 stopwords 제거\n",
        "for num in range(len(naver_webtoon.desc)):\n",
        "    words = re.compile(\"[^\\w]\").sub(' ', naver_webtoon.desc[num])\n",
        "    words = Okt().morphs(words) #형태소 추출\n",
        "    sw_removed = []\n",
        "    for i in words :\n",
        "        if i.lower() not in sw:\n",
        "            sw_removed.append(i)\n",
        "    naver_webtoon.desc[num] = sw_removed\n",
        "\n",
        "# 다음 웹툰 토큰화 및 stopwords 제거\n",
        "for num in range(len(daum_webtoon.desc)):\n",
        "    words = re.compile(\"[^\\w]\").sub(' ', daum_webtoon.desc[num])\n",
        "    words = Okt().morphs(words) #형태소 추출\n",
        "    sw_removed = []\n",
        "    for i in words :\n",
        "        if i.lower() not in sw:\n",
        "            sw_removed.append(i)\n",
        "    daum_webtoon.desc[num] = sw_removed\n",
        "\n",
        "# 네이버 웹소설 토큰화 및 stopwords 제거\n",
        "for num in range(len(naver_webnovel.desc)):\n",
        "    words = re.compile(\"[^\\w]\").sub(' ', naver_webnovel.desc[num])\n",
        "    words = Okt().morphs(words) #형태소 추출\n",
        "    sw_removed = []\n",
        "    for i in words :\n",
        "        if i.lower() not in sw:\n",
        "            sw_removed.append(i)\n",
        "    naver_webnovel.desc[num] = sw_removed\n",
        "\n",
        "# 넷플릭스 토큰화 및 stopwords 제거\n",
        "desc_list = []\n",
        "for plot in netflix.desc:\n",
        "    words_list_for_one_plot = Okt().morphs(plot)\n",
        "    sw_removed = []\n",
        "    for i in words_list_for_one_plot:\n",
        "        if i.lower() not in sw:\n",
        "            sw_removed.append(i)\n",
        "    desc_list.append(sw_removed)\n",
        "\n",
        "netflix.desc = desc_list"
      ],
      "execution_count": 78,
      "outputs": []
    },
    {
      "cell_type": "code",
      "metadata": {
        "colab": {
          "base_uri": "https://localhost:8080/"
        },
        "id": "GN0ep76-XaOv",
        "outputId": "1b2d9591-0508-4fc5-9cb1-f44b21958d7c"
      },
      "source": [
        "# 사용자 입력받기\n",
        "input_word = input()\n",
        "\n",
        "naver_webtoon_rec = []\n",
        "# naver_webtoon_desc = []\n",
        "naver_webtoon_url = []\n",
        "\n",
        "daum_webtoon_rec = []\n",
        "# daum_webtoon_desc = []\n",
        "daum_webtoon_url = []\n",
        "\n",
        "naver_webnovel_rec = []\n",
        "# naver_webnovel_desc = []\n",
        "naver_webnovel_url = []\n",
        "\n",
        "netflix_rec = []\n",
        "# netflix_desc = []\n",
        "netflix_url = []\n",
        "\n",
        "# 네이버 웹툰에서 입력 관련 컨텐츠 뽑기\n",
        "for num in range(len(naver_webtoon.desc)):\n",
        "    if input_word in naver_webtoon.desc[num] :\n",
        "        naver_webtoon_rec.append(naver_webtoon.title[num])\n",
        "        # naver_webtoon_desc.append(naver_webtoon.desc[num])\n",
        "        naver_webtoon_url.append(naver_webtoon.url[num])\n",
        "\n",
        "# 다음 웹툰에서 입력 관련 컨텐츠 뽑기\n",
        "for num in range(len(daum_webtoon.desc)):\n",
        "    if input_word in daum_webtoon.desc[num] :\n",
        "        daum_webtoon_rec.append(daum_webtoon.title[num])\n",
        "        # daum_webtoon_desc.append(daum_webtoon.desc[num])\n",
        "        daum_webtoon_url.append(daum_webtoon.url[num])\n",
        "\n",
        "# 네이버 웹소설에서 입력 관련 컨텐츠 뽑기\n",
        "for num in range(len(naver_webnovel.desc)):\n",
        "    if input_word in naver_webnovel.desc[num] :\n",
        "        naver_webnovel_rec.append(naver_webnovel.title[num])\n",
        "        # naver_webnovel_desc.append(naver_webnovel.desc[num])\n",
        "        naver_webnovel_url.append(naver_webnovel.url[num])\n",
        "\n",
        "# 넷플릭스에서 입력 관련 컨텐츠 뽑기\n",
        "for num, desc in enumerate(netflix.desc):\n",
        "    if input_word in desc :\n",
        "        netflix_rec.append(netflix.title[num])\n",
        "        # netflix_desc.append(netflix.desc[num])\n",
        "        netflix_url.append(netflix.url[num])\n",
        "\n",
        "\n",
        "print(\"추천 네이버 웹툰 : \", end='')\n",
        "for i in range(len(naver_webtoon_rec)) : \n",
        "    # print(f\"({naver_webtoon_rec[i]},{naver_webtoon.desc[i]},{naver_webtoon_url[i]})\", end=' ')\n",
        "    print(f\"({naver_webtoon_rec[i]},{naver_webtoon_url[i]})\", end=' ')\n",
        "print()\n",
        "print(\"추천 다음 웹툰 : \", end='')\n",
        "for i in range(len(daum_webtoon_rec)) : \n",
        "    print(f\"({daum_webtoon_rec[i]},{daum_webtoon_url[i]})\", end=' ')\n",
        "print()\n",
        "print(\"추천 네이버 웹소설 : \", end='')\n",
        "for i in range(len(naver_webnovel_rec)) : \n",
        "    print(f\"({naver_webnovel_rec[i]},{naver_webnovel_url[i]})\",end=' ')\n",
        "print()\n",
        "print(\"추천 넷플릭스 : \", end='')\n",
        "for i in range(len(netflix_rec)) : \n",
        "    print(f\"({netflix_rec[i]},{netflix_url[i]})\",end=' ')"
      ],
      "execution_count": 85,
      "outputs": [
        {
          "output_type": "stream",
          "text": [
            "고양이\n",
            "추천 네이버 웹툰 : (안녕 나의 모모로,https://comic.naver.com/webtoon/list.nhn?titleId=754484&weekday=mon) (백호랑,https://comic.naver.com/webtoon/list.nhn?titleId=745654&weekday=mon) (3cm 헌터,https://comic.naver.com/webtoon/list.nhn?titleId=733458&weekday=tue) (일렉시드,https://comic.naver.com/webtoon/list.nhn?titleId=717481&weekday=wed) (집사레인저,https://comic.naver.com/webtoon/list.nhn?titleId=743270&weekday=thu) (곱게 키웠더니 짐승,https://comic.naver.com/webtoon/list.nhn?titleId=761104&weekday=sun) \n",
            "추천 다음 웹툰 : (냥냐라냥냥,http://webtoon.daum.net/webtoon/view/miao) (닭은 의외로 위대하다,http://webtoon.daum.net/webtoon/view/greatchicken) (하필 너야?!,http://webtoon.daum.net/webtoon/view/hapil) \n",
            "추천 네이버 웹소설 : (미치도록 너만을,https://novel.naver.com/webnovel/list.nhn?novelId=514807) (첫사랑은 원래 그런 법이랍니다, 전하,https://novel.naver.com/webnovel/list.nhn?novelId=840825) (칼끝에 입술,https://novel.naver.com/webnovel/list.nhn?novelId=920927) (황태자의 애완 고양이,https://novel.naver.com/webnovel/list.nhn?novelId=140732) (고양이 키스,https://novel.naver.com/webnovel/list.nhn?novelId=398093) (3cm 헌터,https://novel.naver.com/webnovel/list.nhn?novelId=825582) \n",
            "추천 넷플릭스 : (장화신은 고양이의 신나는 모험,https://www.netflix.com/title/80018988) (말하는 고양이 토킹 톰,https://www.netflix.com/title/80162994) (오기와 악동들,https://www.netflix.com/title/70286808) (슈렉의 늪 이야기,https://www.netflix.com/title/70242630) (더 아머 오브 라이트,https://www.netflix.com/title/80071215) (사랑한 이후,https://www.netflix.com/title/80165854) (장화신은 고양이,https://www.netflix.com/title/70202053) (미스터 식스,https://www.netflix.com/title/80065178) (슈퍼히어로 크리쉬,https://www.netflix.com/title/70055248) (원숭이 크리쉬와 고양이 트리쉬: 파트 2,https://www.netflix.com/title/80182481) (원숭이 크리쉬와 고양이 트리쉬: 두루마리 그림 이야기,https://www.netflix.com/title/80182482) (데니스 리리: 네 무덤을 파주마,https://www.netflix.com/title/80195838) (눈물 닦고 도움닫기,https://www.netflix.com/title/80142015) (앵커맨 2,https://www.netflix.com/title/70283197) (어 베리 머리 크리스마스,https://www.netflix.com/title/80042368) (비밀의 숲,https://www.netflix.com/title/80187302) (영혼 신부,https://www.netflix.com/title/80241234) "
          ],
          "name": "stdout"
        }
      ]
    },
    {
      "cell_type": "code",
      "metadata": {
        "id": "aPoh-oNVYPOs"
      },
      "source": [
        ""
      ],
      "execution_count": null,
      "outputs": []
    }
  ]
}